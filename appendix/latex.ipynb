{
  "nbformat": 4,
  "nbformat_minor": 0,
  "metadata": {
    "kernelspec": {
      "display_name": "Python 3",
      "language": "python",
      "name": "python3"
    },
    "language_info": {
      "codemirror_mode": {
        "name": "ipython",
        "version": 3
      },
      "file_extension": ".py",
      "mimetype": "text/x-python",
      "name": "python",
      "nbconvert_exporter": "python",
      "pygments_lexer": "ipython3",
      "version": "3.6.10"
    },
    "colab": {
      "provenance": [],
      "include_colab_link": true
    }
  },
  "cells": [
    {
      "cell_type": "markdown",
      "metadata": {
        "id": "view-in-github",
        "colab_type": "text"
      },
      "source": [
        "<a href=\"https://colab.research.google.com/github/shozossk/Deep-Reinforcement-Learning-Book/blob/master/appendix/latex.ipynb\" target=\"_parent\"><img src=\"https://colab.research.google.com/assets/colab-badge.svg\" alt=\"Open In Colab\"/></a>"
      ]
    },
    {
      "cell_type": "markdown",
      "metadata": {
        "id": "3mfgnf4BgUsb"
      },
      "source": [
        "# LaTeXの基礎\n",
        "LaTeXで数式を美しく記述する方法を学びます。"
      ]
    },
    {
      "cell_type": "markdown",
      "source": [
        "$$x^2+3y^2=9$$　を満たす時\n",
        "$$x+y^2-1$$ の最大値と最小値を求める\n",
        "$$3y^2=9-x^2$$\n",
        "$$y^2=\\frac{9-x^2}{3}$$\n",
        "$$y^2$$は正の数だから\n",
        "$$\\frac{9-x^2}{3}>=0$$\n",
        "$$9-x^2>=0$$\n",
        "$$-3<=x<=3$$\n",
        "\n",
        "$$x+\\frac{9-x^2}{3}-1$$\n",
        "$$=-\\frac{1}{3}x^2+x+2$$\n"
      ],
      "metadata": {
        "id": "frAmWCrCqHEF"
      }
    },
    {
      "cell_type": "code",
      "source": [
        "import matplotlib.pyplot as plt\n",
        "import numpy as np\n",
        "x=np.linspace(-3,3,100)\n",
        "y=-1/3*x**2+x+2\n",
        "plt.plot(x,y)\n",
        "plt.show()"
      ],
      "metadata": {
        "id": "1qJpVTy7vyUJ",
        "outputId": "ed6baff0-1658-441b-97c2-8a283629d55f",
        "colab": {
          "base_uri": "https://localhost:8080/",
          "height": 431
        }
      },
      "execution_count": null,
      "outputs": [
        {
          "output_type": "display_data",
          "data": {
            "text/plain": [
              "<Figure size 640x480 with 1 Axes>"
            ],
            "image/png": "[encoded data removed]"
          },
          "metadata": {}
        }
      ]
    },
    {
      "cell_type": "markdown",
      "metadata": {
        "id": "B2Suy6vOgUsf"
      },
      "source": [
        "### LaTeXとは？\n",
        "\n",
        "Jupyter notebookでは、LaTeXという文書処理システムを使って数式を記述することができます。  \n",
        "本コースではLaTeXを使って数式を記述します。\n",
        "以下の数式は、LaTeXを使って記述されています。\n",
        "\n",
        "$$y=2x+1$$\n",
        "\n",
        "このセルをダブルクリックして編集モードにし、LaTeXによる記述を確かめてみましょう。  \n",
        "Jupyter notebookでは、二重の$の中に数式を表すLaTeXのコードを記述します。  \n",
        "セルを実行すると再び数式が表示されます。\n",
        "\n",
        "また、このように$y=2x+1$、文章の中に数式を記述することも可能です。  \n",
        "この場合は一重の$の中にコードを記述します。"
      ]
    },
    {
      "cell_type": "markdown",
      "metadata": {
        "id": "KHbC12mRgUsg"
      },
      "source": [
        "### 様々な数式の記述\n",
        "LaTeXで様々な数式を記述しましょう。  \n",
        "\n",
        "---添字と累乗---\n",
        "$$a_1, a_{ij}, b^2, b^{ij}, c_1^2$$\n",
        "\n",
        "---多項式---\n",
        "$$y=x^3+2x^2+x+3$$\n",
        "\n",
        "---平方根---\n",
        "$$y=\\sqrt x$$\n",
        "\n",
        "---三角関数---\n",
        "$$y=\\sin x$$\n",
        "\n",
        "---分数---\n",
        "$$y=\\frac{17}{24}$$\n",
        "\n",
        "---総和---\n",
        "$$y=\\sum_{k=1}^n a_k$$\n",
        "\n",
        "---総乗---\n",
        "$$y=\\prod_{k=1}^n a_k$$"
      ]
    },
    {
      "cell_type": "markdown",
      "metadata": {
        "id": "M9zHCzUugUsg"
      },
      "source": [
        "LaTeXには他にも様々な記法があります。  \n",
        "本コースで記法が気になる数式があれば、編集モードにして確かめてみましょう。"
      ]
    },
    {
      "cell_type": "markdown",
      "metadata": {
        "id": "ZSepDuPzgUsh"
      },
      "source": [
        "### 演習:\n",
        "以下の数式を、下のセルにLaTeXで記述してみましょう。このセルは編集モードにしないでください。\n",
        "\n",
        "$$y=x^3 + \\sqrt x + \\frac{a_{ij}}{b_{ij}^4} - \\sum_{k=1}^n a_k$$"
      ]
    },
    {
      "cell_type": "markdown",
      "metadata": {
        "id": "SpYvPGrsggh3"
      },
      "source": []
    }
  ]
}